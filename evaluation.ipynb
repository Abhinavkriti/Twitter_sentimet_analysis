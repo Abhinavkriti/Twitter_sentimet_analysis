{
 "cells": [
  {
   "cell_type": "code",
   "execution_count": 2,
   "id": "53c02f57",
   "metadata": {},
   "outputs": [
    {
     "data": {
      "text/html": [
       "<div>\n",
       "<style scoped>\n",
       "    .dataframe tbody tr th:only-of-type {\n",
       "        vertical-align: middle;\n",
       "    }\n",
       "\n",
       "    .dataframe tbody tr th {\n",
       "        vertical-align: top;\n",
       "    }\n",
       "\n",
       "    .dataframe thead th {\n",
       "        text-align: right;\n",
       "    }\n",
       "</style>\n",
       "<table border=\"1\" class=\"dataframe\">\n",
       "  <thead>\n",
       "    <tr style=\"text-align: right;\">\n",
       "      <th></th>\n",
       "      <th>text</th>\n",
       "      <th>aspect</th>\n",
       "    </tr>\n",
       "  </thead>\n",
       "  <tbody>\n",
       "    <tr>\n",
       "      <th>0</th>\n",
       "      <td>improve your customer service and product avai...</td>\n",
       "      <td>Customer service</td>\n",
       "    </tr>\n",
       "    <tr>\n",
       "      <th>1</th>\n",
       "      <td>functionality is great, almost as in desktop v...</td>\n",
       "      <td>mobile version</td>\n",
       "    </tr>\n",
       "    <tr>\n",
       "      <th>2</th>\n",
       "      <td>but it keeps starting from zoomed in and then ...</td>\n",
       "      <td>zoomed</td>\n",
       "    </tr>\n",
       "    <tr>\n",
       "      <th>3</th>\n",
       "      <td>hey marilyn thanks for your answer the soc2 ty...</td>\n",
       "      <td>Security</td>\n",
       "    </tr>\n",
       "    <tr>\n",
       "      <th>4</th>\n",
       "      <td>@delanovc @zoom @airtable @notionhq @calendly ...</td>\n",
       "      <td>apple</td>\n",
       "    </tr>\n",
       "    <tr>\n",
       "      <th>...</th>\n",
       "      <td>...</td>\n",
       "      <td>...</td>\n",
       "    </tr>\n",
       "    <tr>\n",
       "      <th>995</th>\n",
       "      <td>in a database where i have multiple views enab...</td>\n",
       "      <td>views</td>\n",
       "    </tr>\n",
       "    <tr>\n",
       "      <th>996</th>\n",
       "      <td>the mere act of opening the @notionhq tab make...</td>\n",
       "      <td>opening</td>\n",
       "    </tr>\n",
       "    <tr>\n",
       "      <th>997</th>\n",
       "      <td>i have shared it to web now and added the link...</td>\n",
       "      <td>web</td>\n",
       "    </tr>\n",
       "    <tr>\n",
       "      <th>998</th>\n",
       "      <td>why the members who regularly buy milk has to ...</td>\n",
       "      <td>service charge.</td>\n",
       "    </tr>\n",
       "    <tr>\n",
       "      <th>999</th>\n",
       "      <td>best feature rich productivity app ever.</td>\n",
       "      <td>app</td>\n",
       "    </tr>\n",
       "  </tbody>\n",
       "</table>\n",
       "<p>1000 rows × 2 columns</p>\n",
       "</div>"
      ],
      "text/plain": [
       "                                                  text            aspect\n",
       "0    improve your customer service and product avai...  Customer service\n",
       "1    functionality is great, almost as in desktop v...    mobile version\n",
       "2    but it keeps starting from zoomed in and then ...            zoomed\n",
       "3    hey marilyn thanks for your answer the soc2 ty...          Security\n",
       "4    @delanovc @zoom @airtable @notionhq @calendly ...             apple\n",
       "..                                                 ...               ...\n",
       "995  in a database where i have multiple views enab...             views\n",
       "996  the mere act of opening the @notionhq tab make...           opening\n",
       "997  i have shared it to web now and added the link...               web\n",
       "998  why the members who regularly buy milk has to ...   service charge.\n",
       "999           best feature rich productivity app ever.               app\n",
       "\n",
       "[1000 rows x 2 columns]"
      ]
     },
     "execution_count": 2,
     "metadata": {},
     "output_type": "execute_result"
    }
   ],
   "source": [
    "import pandas as pd \n",
    "df2=pd.read_csv(\"test - test.csv\")\n",
    "df2"
   ]
  },
  {
   "cell_type": "code",
   "execution_count": 3,
   "id": "039f63a7",
   "metadata": {
    "scrolled": false
   },
   "outputs": [
    {
     "data": {
      "text/html": [
       "<div>\n",
       "<style scoped>\n",
       "    .dataframe tbody tr th:only-of-type {\n",
       "        vertical-align: middle;\n",
       "    }\n",
       "\n",
       "    .dataframe tbody tr th {\n",
       "        vertical-align: top;\n",
       "    }\n",
       "\n",
       "    .dataframe thead th {\n",
       "        text-align: right;\n",
       "    }\n",
       "</style>\n",
       "<table border=\"1\" class=\"dataframe\">\n",
       "  <thead>\n",
       "    <tr style=\"text-align: right;\">\n",
       "      <th></th>\n",
       "      <th>text</th>\n",
       "      <th>aspect</th>\n",
       "      <th>label</th>\n",
       "    </tr>\n",
       "  </thead>\n",
       "  <tbody>\n",
       "    <tr>\n",
       "      <th>0</th>\n",
       "      <td>can you check whether its cancelled completely?</td>\n",
       "      <td>cancelled</td>\n",
       "      <td>1</td>\n",
       "    </tr>\n",
       "    <tr>\n",
       "      <th>1</th>\n",
       "      <td>cannot rely on both milk delivery and grocery ...</td>\n",
       "      <td>Milk</td>\n",
       "      <td>0</td>\n",
       "    </tr>\n",
       "    <tr>\n",
       "      <th>2</th>\n",
       "      <td>I get no notification, however the app is real...</td>\n",
       "      <td>notification</td>\n",
       "      <td>0</td>\n",
       "    </tr>\n",
       "    <tr>\n",
       "      <th>3</th>\n",
       "      <td>Love this app, but would love it even more if ...</td>\n",
       "      <td>view</td>\n",
       "      <td>1</td>\n",
       "    </tr>\n",
       "    <tr>\n",
       "      <th>4</th>\n",
       "      <td>it does not let me load a clip on the scene</td>\n",
       "      <td>load</td>\n",
       "      <td>0</td>\n",
       "    </tr>\n",
       "    <tr>\n",
       "      <th>...</th>\n",
       "      <td>...</td>\n",
       "      <td>...</td>\n",
       "      <td>...</td>\n",
       "    </tr>\n",
       "    <tr>\n",
       "      <th>3995</th>\n",
       "      <td>every time i try to edit a page or create a li...</td>\n",
       "      <td>tools</td>\n",
       "      <td>0</td>\n",
       "    </tr>\n",
       "    <tr>\n",
       "      <th>3996</th>\n",
       "      <td>unable to load money using wallets (phonepe/ol...</td>\n",
       "      <td>Unable to load money using wallets</td>\n",
       "      <td>0</td>\n",
       "    </tr>\n",
       "    <tr>\n",
       "      <th>3997</th>\n",
       "      <td>hi, i m doing for the first time ever and i no...</td>\n",
       "      <td>usage</td>\n",
       "      <td>0</td>\n",
       "    </tr>\n",
       "    <tr>\n",
       "      <th>3998</th>\n",
       "      <td>delivery is delayed or cancelled every time i ...</td>\n",
       "      <td>Delivery</td>\n",
       "      <td>0</td>\n",
       "    </tr>\n",
       "    <tr>\n",
       "      <th>3999</th>\n",
       "      <td>your customer service is terrible!</td>\n",
       "      <td>customer service</td>\n",
       "      <td>0</td>\n",
       "    </tr>\n",
       "  </tbody>\n",
       "</table>\n",
       "<p>4000 rows × 3 columns</p>\n",
       "</div>"
      ],
      "text/plain": [
       "                                                   text  \\\n",
       "0       can you check whether its cancelled completely?   \n",
       "1     cannot rely on both milk delivery and grocery ...   \n",
       "2     I get no notification, however the app is real...   \n",
       "3     Love this app, but would love it even more if ...   \n",
       "4           it does not let me load a clip on the scene   \n",
       "...                                                 ...   \n",
       "3995  every time i try to edit a page or create a li...   \n",
       "3996  unable to load money using wallets (phonepe/ol...   \n",
       "3997  hi, i m doing for the first time ever and i no...   \n",
       "3998  delivery is delayed or cancelled every time i ...   \n",
       "3999                 your customer service is terrible!   \n",
       "\n",
       "                                  aspect  label  \n",
       "0                              cancelled      1  \n",
       "1                                   Milk      0  \n",
       "2                           notification      0  \n",
       "3                                   view      1  \n",
       "4                                   load      0  \n",
       "...                                  ...    ...  \n",
       "3995                               tools      0  \n",
       "3996  Unable to load money using wallets      0  \n",
       "3997                               usage      0  \n",
       "3998                            Delivery      0  \n",
       "3999                    customer service      0  \n",
       "\n",
       "[4000 rows x 3 columns]"
      ]
     },
     "execution_count": 3,
     "metadata": {},
     "output_type": "execute_result"
    }
   ],
   "source": [
    "df1=pd.read_csv(\"train - train.csv\")\n",
    "df1"
   ]
  },
  {
   "cell_type": "code",
   "execution_count": 4,
   "id": "0be01173",
   "metadata": {},
   "outputs": [
    {
     "data": {
      "text/plain": [
       "2047              blocks\n",
       "3158              slowly\n",
       "2474                app.\n",
       "3141              Google\n",
       "851                 milk\n",
       "              ...       \n",
       "840             lifetime\n",
       "1405                 app\n",
       "2554               block\n",
       "3829            supr bag\n",
       "3467    quality products\n",
       "Name: aspect, Length: 1200, dtype: object"
      ]
     },
     "execution_count": 4,
     "metadata": {},
     "output_type": "execute_result"
    }
   ],
   "source": [
    "from sklearn.model_selection import train_test_split as tts\n",
    "x=df1.iloc[0:,1]\n",
    "y=df1.iloc[:,-1]\n",
    "x_train,x_test,y_train,y_test=tts(x,y,test_size=0.3)\n",
    "x_test\n",
    "\n"
   ]
  },
  {
   "cell_type": "code",
   "execution_count": null,
   "id": "b1394015",
   "metadata": {
    "scrolled": true
   },
   "outputs": [],
   "source": [
    "import matplotlib.pyplot as plt\n",
    "plt.scatter(x,y,c='blue')\n",
    "plt.show()"
   ]
  },
  {
   "cell_type": "code",
   "execution_count": 10,
   "id": "83ae1f1b",
   "metadata": {},
   "outputs": [],
   "source": [
    "from sklearn import svm\n",
    "from sklearn.svm import SVC\n",
    "from sklearn.metrics import f1_score, accuracy_score, confusion_matrix\n",
    "import seaborn as sns\n",
    "from sklearn.feature_extraction.text import TfidfVectorizer\n",
    "vectorizer = TfidfVectorizer(min_df = 5,\n",
    "                             max_df = 0.8,\n",
    "                             sublinear_tf = True,\n",
    "                             use_idf = True)\n",
    "train_vectors = vectorizer.fit_transform(df1['text'])\n",
    "test_vectors = vectorizer.transform(df2['text'])\n"
   ]
  },
  {
   "cell_type": "code",
   "execution_count": 11,
   "id": "b45e35fb",
   "metadata": {
    "scrolled": true
   },
   "outputs": [
    {
     "name": "stdout",
     "output_type": "stream",
     "text": [
      "(4000, 1215)\n"
     ]
    }
   ],
   "source": [
    "df1['label'].shape\n",
    "print(train_vectors.shape)\n"
   ]
  },
  {
   "cell_type": "code",
   "execution_count": 12,
   "id": "f56f5b45",
   "metadata": {
    "scrolled": true
   },
   "outputs": [
    {
     "name": "stdout",
     "output_type": "stream",
     "text": [
      "Training time: 2.406335s; Prediction time: 0.485140s\n",
      "  (0, 55)\t0.17807090821104135\n",
      "  (0, 91)\t0.49734568626236764\n",
      "  (0, 234)\t0.3861996378059306\n",
      "  (0, 492)\t0.44941414869096963\n",
      "  (0, 806)\t0.4080588660971376\n",
      "  (0, 919)\t0.33580098476383485\n",
      "  (0, 1212)\t0.30089939041348257\n",
      "  (1, 45)\t0.33065762559047307\n",
      "  (1, 80)\t0.18906478109307406\n",
      "  (1, 145)\t0.15401447740238328\n",
      "  (1, 263)\t0.22869206330498415\n",
      "  (1, 411)\t0.32402328060731145\n",
      "  (1, 434)\t0.21282865622539524\n",
      "  (1, 494)\t0.3426394693376656\n",
      "  (1, 496)\t0.14773629010824552\n",
      "  (1, 524)\t0.12101651255301497\n",
      "  (1, 600)\t0.2944759806115408\n",
      "  (1, 644)\t0.21917990195337161\n",
      "  (1, 668)\t0.2772716665644548\n",
      "  (1, 693)\t0.14082347906230502\n",
      "  (1, 967)\t0.3082012939426765\n",
      "  (1, 1042)\t0.0929450047120677\n",
      "  (1, 1138)\t0.37369240527508923\n",
      "  (2, 55)\t0.1461414657853965\n",
      "  (2, 80)\t0.2503888693869895\n",
      "  :\t:\n",
      "  (997, 461)\t0.38934128456044836\n",
      "  (997, 528)\t0.18274326860398224\n",
      "  (997, 573)\t0.371510534974357\n",
      "  (997, 690)\t0.30873984145989025\n",
      "  (997, 927)\t0.4426181031743281\n",
      "  (997, 1042)\t0.12815484048470588\n",
      "  (997, 1065)\t0.14354366039392905\n",
      "  (997, 1157)\t0.3315619733680864\n",
      "  (998, 148)\t0.40835075365268436\n",
      "  (998, 166)\t0.3597047359551561\n",
      "  (998, 450)\t0.2542167358755033\n",
      "  (998, 630)\t0.3886991086812344\n",
      "  (998, 638)\t0.25854500846329054\n",
      "  (998, 750)\t0.3303800798658149\n",
      "  (998, 919)\t0.24462062398191795\n",
      "  (998, 1042)\t0.10925996466417122\n",
      "  (998, 1065)\t0.12237988985112253\n",
      "  (998, 1174)\t0.3597047359551561\n",
      "  (998, 1176)\t0.30985670300358087\n",
      "  (999, 69)\t0.19536745352235727\n",
      "  (999, 117)\t0.34080311212246367\n",
      "  (999, 336)\t0.40408147637448677\n",
      "  (999, 364)\t0.4148324657305901\n",
      "  (999, 808)\t0.43135724026670014\n",
      "  (999, 879)\t0.5694277074117692\n",
      "(1000, 1215) (1000,)\n"
     ]
    }
   ],
   "source": [
    "from sklearn.metrics import classification_report\n",
    "import time\n",
    "from sklearn.metrics import f1_score, accuracy_score\n",
    "linear_classifier=svm.SVC(kernel='linear')\n",
    "t0=time.time()\n",
    "linear_classifier.fit(train_vectors, df1['label'])\n",
    "t1 = time.time()\n",
    "predictions =linear_classifier.predict(test_vectors)\n",
    "t2 = time.time()\n",
    "time_for_train = t1-t0\n",
    "time_for_predict = t2-t1\n",
    "print(\"Training time: %fs; Prediction time: %fs\" % (time_for_train, time_for_predict))\n",
    "#report = classification_report(df1['label'],predictions, output_dict=True)\n",
    "#print('positive: ', report['pos'])\n",
    "#print('negative: ', report['neg'])\n",
    "print(test_vectors)\n",
    "print(test_vectors.shape, predictions.shape)\n",
    "\n"
   ]
  },
  {
   "cell_type": "code",
   "execution_count": 16,
   "id": "119274fe",
   "metadata": {},
   "outputs": [],
   "source": [
    "df_output = pd.DataFrame()\n",
    "aux = pd.read_csv('test - test.csv')\n",
    "df_output['text'] = aux['text']\n",
    "df_output['aspect'] = aux['aspect']\n",
    "df_output['label'] = predictions\n",
    "df_output[['text','aspect','label']].to_csv('test.csv', index=False)"
   ]
  },
  {
   "cell_type": "code",
   "execution_count": 15,
   "id": "51d7015c",
   "metadata": {},
   "outputs": [
    {
     "name": "stdout",
     "output_type": "stream",
     "text": [
      "[1]\n"
     ]
    }
   ],
   "source": [
    "review = \"SUPERB, I AM IN LOVE IN THIS PHONE\"\n",
    "review_vector = vectorizer.transform([review])\n",
    "print(linear_classifier.predict(review_vector))"
   ]
  },
  {
   "cell_type": "code",
   "execution_count": 19,
   "id": "12de9388",
   "metadata": {},
   "outputs": [
    {
     "name": "stdout",
     "output_type": "stream",
     "text": [
      "\n",
      "Note: you may need to restart the kernel to use updated packages.\n"
     ]
    }
   ],
   "source": [
    "conda list -e > requirements.txt\n"
   ]
  },
  {
   "cell_type": "code",
   "execution_count": 1,
   "id": "847cefab",
   "metadata": {},
   "outputs": [
    {
     "ename": "SyntaxError",
     "evalue": "invalid syntax (<ipython-input-1-2ce2866b57c9>, line 2)",
     "output_type": "error",
     "traceback": [
      "\u001b[1;36m  File \u001b[1;32m\"<ipython-input-1-2ce2866b57c9>\"\u001b[1;36m, line \u001b[1;32m2\u001b[0m\n\u001b[1;33m    pip3 install pipreqs\u001b[0m\n\u001b[1;37m         ^\u001b[0m\n\u001b[1;31mSyntaxError\u001b[0m\u001b[1;31m:\u001b[0m invalid syntax\n"
     ]
    }
   ],
   "source": [
    "# install\n",
    "pip3 install pipreqs\n",
    "\n",
    "# Run in current directory\n",
    "python3 -m  pipreqs.pipreqs ."
   ]
  },
  {
   "cell_type": "code",
   "execution_count": 3,
   "id": "5495d98b",
   "metadata": {},
   "outputs": [
    {
     "ename": "SyntaxError",
     "evalue": "invalid syntax (<ipython-input-3-5ae009771a48>, line 1)",
     "output_type": "error",
     "traceback": [
      "\u001b[1;36m  File \u001b[1;32m\"<ipython-input-3-5ae009771a48>\"\u001b[1;36m, line \u001b[1;32m1\u001b[0m\n\u001b[1;33m    pip install pipreqs\u001b[0m\n\u001b[1;37m        ^\u001b[0m\n\u001b[1;31mSyntaxError\u001b[0m\u001b[1;31m:\u001b[0m invalid syntax\n"
     ]
    }
   ],
   "source": [
    "pip install pipreqs\n",
    "pipreqs /downloads"
   ]
  },
  {
   "cell_type": "code",
   "execution_count": null,
   "id": "dd15e427",
   "metadata": {},
   "outputs": [],
   "source": []
  }
 ],
 "metadata": {
  "kernelspec": {
   "display_name": "Python 3",
   "language": "python",
   "name": "python3"
  },
  "language_info": {
   "codemirror_mode": {
    "name": "ipython",
    "version": 3
   },
   "file_extension": ".py",
   "mimetype": "text/x-python",
   "name": "python",
   "nbconvert_exporter": "python",
   "pygments_lexer": "ipython3",
   "version": "3.8.8"
  }
 },
 "nbformat": 4,
 "nbformat_minor": 5
}
